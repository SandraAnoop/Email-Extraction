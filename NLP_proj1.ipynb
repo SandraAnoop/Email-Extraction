{
  "nbformat": 4,
  "nbformat_minor": 0,
  "metadata": {
    "colab": {
      "provenance": []
    },
    "kernelspec": {
      "name": "python3",
      "display_name": "Python 3"
    },
    "language_info": {
      "name": "python"
    }
  },
  "cells": [
    {
      "cell_type": "code",
      "execution_count": 1,
      "metadata": {
        "colab": {
          "base_uri": "https://localhost:8080/",
          "height": 646
        },
        "id": "PCV-NsnT5vM_",
        "outputId": "33060fd9-7ef7-4e33-974f-161d5ce9eb4f"
      },
      "outputs": [
        {
          "output_type": "stream",
          "name": "stdout",
          "text": [
            "It looks like you are running Gradio on a hosted Jupyter notebook, which requires `share=True`. Automatically setting `share=True` (you can turn this off by setting `share=False` in `launch()` explicitly).\n",
            "\n",
            "Colab notebook detected. To show errors in colab notebook, set debug=True in launch()\n",
            "* Running on public URL: https://5e6d5efaeaa8f753f2.gradio.live\n",
            "\n",
            "This share link expires in 1 week. For free permanent hosting and GPU upgrades, run `gradio deploy` from the terminal in the working directory to deploy to Hugging Face Spaces (https://huggingface.co/spaces)\n"
          ]
        },
        {
          "output_type": "display_data",
          "data": {
            "text/plain": [
              "<IPython.core.display.HTML object>"
            ],
            "text/html": [
              "<div><iframe src=\"https://5e6d5efaeaa8f753f2.gradio.live\" width=\"100%\" height=\"500\" allow=\"autoplay; camera; microphone; clipboard-read; clipboard-write;\" frameborder=\"0\" allowfullscreen></iframe></div>"
            ]
          },
          "metadata": {}
        },
        {
          "output_type": "execute_result",
          "data": {
            "text/plain": []
          },
          "metadata": {},
          "execution_count": 1
        }
      ],
      "source": [
        "import re\n",
        "import gradio as gr\n",
        "\n",
        "def email(sentence):\n",
        "    pattern = r'[a-zA-Z0-9._%+-]+@[a-zA-Z0-9.-]+\\.[a-zA-Z]{2,}'\n",
        "    emails = re.findall(pattern, sentence)\n",
        "\n",
        "    if emails:\n",
        "        code_example = f\"\"\"\n",
        "import re\n",
        "\n",
        "pattern = r'{pattern}'\n",
        "re.findall(pattern, \"{sentence}\")\n",
        "# Output: {emails}\n",
        "\"\"\"\n",
        "        return f\"{code_example}\"\n",
        "    else:\n",
        "        return \"No email found in the sentence.\"\n",
        "\n",
        "with gr.Blocks() as demo:\n",
        "    gr.Markdown(\"## 📧 Email Extractor (Live Mode)\")\n",
        "    gr.Markdown(\"Type a sentence and instantly see the extracted email and example code.\")\n",
        "\n",
        "    with gr.Row():\n",
        "        with gr.Column():\n",
        "            inp = gr.Textbox(label=\"Sentence\", placeholder=\"Enter a sentence containing an email...\", lines=2)\n",
        "        with gr.Column():\n",
        "            out = gr.Textbox(label=\"Result (with code)\", lines=8)\n",
        "\n",
        "    # Live update without a button\n",
        "    inp.change(fn=email, inputs=inp, outputs=out)\n",
        "\n",
        "demo.launch()\n"
      ]
    },
    {
      "cell_type": "code",
      "source": [],
      "metadata": {
        "id": "FphHqjsj5wU2"
      },
      "execution_count": null,
      "outputs": []
    }
  ]
}